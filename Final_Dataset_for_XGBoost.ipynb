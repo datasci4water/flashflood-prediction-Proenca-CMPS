{
  "nbformat": 4,
  "nbformat_minor": 0,
  "metadata": {
    "colab": {
      "provenance": []
    },
    "kernelspec": {
      "name": "python3",
      "display_name": "Python 3"
    },
    "language_info": {
      "name": "python"
    }
  },
  "cells": [
    {
      "cell_type": "code",
      "execution_count": null,
      "metadata": {
        "id": "u3phmK_so2Qf"
      },
      "outputs": [],
      "source": [
        "import pandas as pd\n",
        "from google.colab import files\n",
        "import matplotlib.pyplot as plt\n",
        "import numpy as np"
      ]
    },
    {
      "cell_type": "markdown",
      "source": [
        "### Importing the radar data"
      ],
      "metadata": {
        "id": "d_amAPClo6s1"
      }
    },
    {
      "cell_type": "code",
      "source": [
        "# Radar data\n",
        "uploaded = files.upload()\n",
        "dfs = pd.read_csv('Radar_145eventos.csv') # Csv containing all the radar data for 145 days\n",
        "dfs.head()"
      ],
      "metadata": {
        "id": "uyutlgwqo67I"
      },
      "execution_count": null,
      "outputs": []
    },
    {
      "cell_type": "code",
      "source": [
        "# Temporally organizing the dataset\n",
        "dfs['data_index'] = pd.to_datetime(dfs['Date'] + ' ' + dfs['Time_match']) # Transforming to datetime\n",
        "dfs = dfs.sort_values(['data_index']) # Arranging the dates\n",
        "dfs = dfs.reset_index() # Reseting index\n",
        "dfs = dfs.drop(columns = ['data_index', 'index']) # Dropping columns"
      ],
      "metadata": {
        "id": "V8iXXofzo8bg"
      },
      "execution_count": null,
      "outputs": []
    },
    {
      "cell_type": "markdown",
      "source": [
        "### Importing de level data"
      ],
      "metadata": {
        "id": "_nv63V8vo_XL"
      }
    },
    {
      "cell_type": "code",
      "source": [
        "# Level data\n",
        "uploaded = files.upload()\n",
        "df = pd.read_csv('Nivel_145eventos.csv') # Csv containing all the level data for 145 days\n",
        "df.head()"
      ],
      "metadata": {
        "id": "gYUM8Ralo_wn"
      },
      "execution_count": null,
      "outputs": []
    },
    {
      "cell_type": "code",
      "source": [
        "# Temporally organizing the dataset\n",
        "df['data_index'] = pd.to_datetime(df['Date'] + ' ' + df['Time_match'])\n",
        "df = df.sort_values(['data_index'])\n",
        "df = df.reset_index()\n",
        "df = df.drop(columns = ['data_index', 'index'])"
      ],
      "metadata": {
        "id": "kP8GHC4Eo_-p"
      },
      "execution_count": null,
      "outputs": []
    },
    {
      "cell_type": "markdown",
      "source": [
        "### Merging radar and level data"
      ],
      "metadata": {
        "id": "E1ilOquwpIJ1"
      }
    },
    {
      "cell_type": "code",
      "source": [
        "df_merged = pd.merge(dfs, df, how=\"inner\", on = ['Date', 'Time_match'])"
      ],
      "metadata": {
        "id": "IagSMS28pIeF"
      },
      "execution_count": null,
      "outputs": []
    },
    {
      "cell_type": "markdown",
      "source": [
        "### Exporting the final dataset"
      ],
      "metadata": {
        "id": "5oAdS-1OpKhu"
      }
    },
    {
      "cell_type": "code",
      "source": [
        "df_merged.to_csv('df_145days_only_merged.csv', index=False)"
      ],
      "metadata": {
        "id": "fnPx4FkHpN3b"
      },
      "execution_count": null,
      "outputs": []
    }
  ]
}